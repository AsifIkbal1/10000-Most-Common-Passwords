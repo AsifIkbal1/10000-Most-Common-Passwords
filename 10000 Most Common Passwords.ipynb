{
 "cells": [
  {
   "cell_type": "code",
   "execution_count": 1,
   "metadata": {},
   "outputs": [],
   "source": [
    "import pandas as pd\n",
    "import matplotlib.pyplot as plt"
   ]
  },
  {
   "cell_type": "code",
   "execution_count": 2,
   "metadata": {},
   "outputs": [
    {
     "data": {
      "text/html": [
       "<div>\n",
       "<style scoped>\n",
       "    .dataframe tbody tr th:only-of-type {\n",
       "        vertical-align: middle;\n",
       "    }\n",
       "\n",
       "    .dataframe tbody tr th {\n",
       "        vertical-align: top;\n",
       "    }\n",
       "\n",
       "    .dataframe thead th {\n",
       "        text-align: right;\n",
       "    }\n",
       "</style>\n",
       "<table border=\"1\" class=\"dataframe\">\n",
       "  <thead>\n",
       "    <tr style=\"text-align: right;\">\n",
       "      <th></th>\n",
       "      <th>password</th>\n",
       "      <th>length</th>\n",
       "      <th>num_chars</th>\n",
       "      <th>num_digits</th>\n",
       "      <th>num_upper</th>\n",
       "      <th>num_lower</th>\n",
       "      <th>num_special</th>\n",
       "      <th>num_vowels</th>\n",
       "      <th>num_syllables</th>\n",
       "    </tr>\n",
       "  </thead>\n",
       "  <tbody>\n",
       "    <tr>\n",
       "      <th>0</th>\n",
       "      <td>123456</td>\n",
       "      <td>6</td>\n",
       "      <td>0</td>\n",
       "      <td>6</td>\n",
       "      <td>0</td>\n",
       "      <td>0</td>\n",
       "      <td>0</td>\n",
       "      <td>0</td>\n",
       "      <td>1</td>\n",
       "    </tr>\n",
       "    <tr>\n",
       "      <th>1</th>\n",
       "      <td>password</td>\n",
       "      <td>8</td>\n",
       "      <td>8</td>\n",
       "      <td>0</td>\n",
       "      <td>0</td>\n",
       "      <td>8</td>\n",
       "      <td>0</td>\n",
       "      <td>2</td>\n",
       "      <td>2</td>\n",
       "    </tr>\n",
       "    <tr>\n",
       "      <th>2</th>\n",
       "      <td>12345678</td>\n",
       "      <td>8</td>\n",
       "      <td>0</td>\n",
       "      <td>8</td>\n",
       "      <td>0</td>\n",
       "      <td>0</td>\n",
       "      <td>0</td>\n",
       "      <td>0</td>\n",
       "      <td>1</td>\n",
       "    </tr>\n",
       "    <tr>\n",
       "      <th>3</th>\n",
       "      <td>qwerty</td>\n",
       "      <td>6</td>\n",
       "      <td>6</td>\n",
       "      <td>0</td>\n",
       "      <td>0</td>\n",
       "      <td>6</td>\n",
       "      <td>0</td>\n",
       "      <td>1</td>\n",
       "      <td>3</td>\n",
       "    </tr>\n",
       "    <tr>\n",
       "      <th>4</th>\n",
       "      <td>123456789</td>\n",
       "      <td>9</td>\n",
       "      <td>0</td>\n",
       "      <td>9</td>\n",
       "      <td>0</td>\n",
       "      <td>0</td>\n",
       "      <td>0</td>\n",
       "      <td>0</td>\n",
       "      <td>1</td>\n",
       "    </tr>\n",
       "  </tbody>\n",
       "</table>\n",
       "</div>"
      ],
      "text/plain": [
       "    password  length  num_chars  num_digits  num_upper  num_lower  \\\n",
       "0     123456       6          0           6          0          0   \n",
       "1   password       8          8           0          0          8   \n",
       "2   12345678       8          0           8          0          0   \n",
       "3     qwerty       6          6           0          0          6   \n",
       "4  123456789       9          0           9          0          0   \n",
       "\n",
       "   num_special  num_vowels  num_syllables  \n",
       "0            0           0              1  \n",
       "1            0           2              2  \n",
       "2            0           0              1  \n",
       "3            0           1              3  \n",
       "4            0           0              1  "
      ]
     },
     "execution_count": 2,
     "metadata": {},
     "output_type": "execute_result"
    }
   ],
   "source": [
    "df=pd.read_csv('file:///C:/Users/Md%20Asif%20Ikbal/Downloads/common_passwords.csv')\n",
    "df.head()"
   ]
  },
  {
   "cell_type": "code",
   "execution_count": 4,
   "metadata": {},
   "outputs": [
    {
     "data": {
      "text/html": [
       "<div>\n",
       "<style scoped>\n",
       "    .dataframe tbody tr th:only-of-type {\n",
       "        vertical-align: middle;\n",
       "    }\n",
       "\n",
       "    .dataframe tbody tr th {\n",
       "        vertical-align: top;\n",
       "    }\n",
       "\n",
       "    .dataframe thead th {\n",
       "        text-align: right;\n",
       "    }\n",
       "</style>\n",
       "<table border=\"1\" class=\"dataframe\">\n",
       "  <thead>\n",
       "    <tr style=\"text-align: right;\">\n",
       "      <th></th>\n",
       "      <th>index</th>\n",
       "      <th>password</th>\n",
       "    </tr>\n",
       "  </thead>\n",
       "  <tbody>\n",
       "    <tr>\n",
       "      <th>0</th>\n",
       "      <td>4349</td>\n",
       "      <td>sex</td>\n",
       "    </tr>\n",
       "    <tr>\n",
       "      <th>1</th>\n",
       "      <td>8186</td>\n",
       "      <td>mad</td>\n",
       "    </tr>\n",
       "    <tr>\n",
       "      <th>2</th>\n",
       "      <td>1591</td>\n",
       "      <td>123</td>\n",
       "    </tr>\n",
       "    <tr>\n",
       "      <th>3</th>\n",
       "      <td>5214</td>\n",
       "      <td>shao</td>\n",
       "    </tr>\n",
       "    <tr>\n",
       "      <th>4</th>\n",
       "      <td>718</td>\n",
       "      <td>1980</td>\n",
       "    </tr>\n",
       "    <tr>\n",
       "      <th>5</th>\n",
       "      <td>8025</td>\n",
       "      <td>hung</td>\n",
       "    </tr>\n",
       "    <tr>\n",
       "      <th>6</th>\n",
       "      <td>6134</td>\n",
       "      <td>beta</td>\n",
       "    </tr>\n",
       "    <tr>\n",
       "      <th>7</th>\n",
       "      <td>8020</td>\n",
       "      <td>junk</td>\n",
       "    </tr>\n",
       "    <tr>\n",
       "      <th>8</th>\n",
       "      <td>4760</td>\n",
       "      <td>qiao</td>\n",
       "    </tr>\n",
       "    <tr>\n",
       "      <th>9</th>\n",
       "      <td>6146</td>\n",
       "      <td>1949</td>\n",
       "    </tr>\n",
       "  </tbody>\n",
       "</table>\n",
       "</div>"
      ],
      "text/plain": [
       "   index password\n",
       "0   4349      sex\n",
       "1   8186      mad\n",
       "2   1591      123\n",
       "3   5214     shao\n",
       "4    718     1980\n",
       "5   8025     hung\n",
       "6   6134     beta\n",
       "7   8020     junk\n",
       "8   4760     qiao\n",
       "9   6146     1949"
      ]
     },
     "execution_count": 4,
     "metadata": {},
     "output_type": "execute_result"
    }
   ],
   "source": [
    "#longest passwords\n",
    "df.sort_values('length',ascending=True)['password'].head(10).reset_index()"
   ]
  },
  {
   "cell_type": "code",
   "execution_count": 5,
   "metadata": {},
   "outputs": [
    {
     "name": "stdout",
     "output_type": "stream",
     "text": [
      "Top 1  : 6 characters\n",
      "Top 2  : 8 characters\n",
      "Top 3  : 7 characters\n",
      "Top 4  : 5 characters\n",
      "Top 5  : 4 characters\n",
      "Top 6  : 9 characters\n",
      "Top 7  : 10 characters\n",
      "Top 8  : 11 characters\n",
      "Top 9  : 12 characters\n",
      "Top 10 : 3 characters\n",
      "Top 11 : 13 characters\n",
      "Top 12 : 15 characters\n",
      "Top 13 : 16 characters\n"
     ]
    }
   ],
   "source": [
    "# popular lengths\n",
    "top=df['length'].value_counts()\n",
    "x = []\n",
    "y = []\n",
    "for i,(a,b) in enumerate(top.iteritems(),1):\n",
    "    print(\"Top\",'{:<2}'.format(i),\":\",a,\"characters\")\n",
    "    x.append(a)\n",
    "    y.append(b)"
   ]
  },
  {
   "cell_type": "code",
   "execution_count": 6,
   "metadata": {},
   "outputs": [
    {
     "data": {
      "image/png": "[encoded data removed]",
      "text/plain": [
       "<Figure size 432x288 with 1 Axes>"
      ]
     },
     "metadata": {
      "needs_background": "light"
     },
     "output_type": "display_data"
    }
   ],
   "source": [
    "# chart\n",
    "distribution = pd.DataFrame({'characters':x,'frequency':y})\n",
    "plt.bar(distribution['characters'].tolist(),distribution['frequency'].tolist())\n",
    "plt.xlabel('number of characters')\n",
    "plt.ylabel('frequency')\n",
    "highest = df[df['length']==6]['length'].value_counts()"
   ]
  },
  {
   "cell_type": "code",
   "execution_count": 7,
   "metadata": {},
   "outputs": [
    {
     "name": "stdout",
     "output_type": "stream",
     "text": [
      "average length 6.6513\n",
      "the number of letters on average 5.0303\n",
      "the number of digits on average 1.6176\n"
     ]
    }
   ],
   "source": [
    "print('average length', df['length'].mean())\n",
    "print('the number of letters on average', df['num_chars'].mean())\n",
    "print('the number of digits on average', df['num_digits'].mean())"
   ]
  },
  {
   "cell_type": "code",
   "execution_count": 8,
   "metadata": {},
   "outputs": [
    {
     "name": "stdout",
     "output_type": "stream",
     "text": [
      "in 1.19% of cases, capital letters are used\n",
      "in 0.12% of cases, special characters are used\n"
     ]
    }
   ],
   "source": [
    "print(f\"in {len(df[df['num_upper']!=0])*100/len(df)}% of cases, capital letters are used\")\n",
    "print(f\"in {len(df[df['num_special']!=0])*100/len(df)}% of cases, special characters are used\")"
   ]
  },
  {
   "cell_type": "code",
   "execution_count": 9,
   "metadata": {},
   "outputs": [
    {
     "data": {
      "text/html": [
       "<div>\n",
       "<style scoped>\n",
       "    .dataframe tbody tr th:only-of-type {\n",
       "        vertical-align: middle;\n",
       "    }\n",
       "\n",
       "    .dataframe tbody tr th {\n",
       "        vertical-align: top;\n",
       "    }\n",
       "\n",
       "    .dataframe thead th {\n",
       "        text-align: right;\n",
       "    }\n",
       "</style>\n",
       "<table border=\"1\" class=\"dataframe\">\n",
       "  <thead>\n",
       "    <tr style=\"text-align: right;\">\n",
       "      <th></th>\n",
       "      <th>password</th>\n",
       "      <th>length</th>\n",
       "      <th>num_chars</th>\n",
       "      <th>num_digits</th>\n",
       "      <th>num_upper</th>\n",
       "      <th>num_lower</th>\n",
       "      <th>num_special</th>\n",
       "      <th>num_vowels</th>\n",
       "      <th>num_syllables</th>\n",
       "    </tr>\n",
       "  </thead>\n",
       "  <tbody>\n",
       "    <tr>\n",
       "      <th>0</th>\n",
       "      <td>123456</td>\n",
       "      <td>6</td>\n",
       "      <td>0</td>\n",
       "      <td>6</td>\n",
       "      <td>0</td>\n",
       "      <td>0</td>\n",
       "      <td>0</td>\n",
       "      <td>0</td>\n",
       "      <td>1</td>\n",
       "    </tr>\n",
       "    <tr>\n",
       "      <th>1</th>\n",
       "      <td>password</td>\n",
       "      <td>8</td>\n",
       "      <td>8</td>\n",
       "      <td>0</td>\n",
       "      <td>0</td>\n",
       "      <td>8</td>\n",
       "      <td>0</td>\n",
       "      <td>2</td>\n",
       "      <td>2</td>\n",
       "    </tr>\n",
       "    <tr>\n",
       "      <th>2</th>\n",
       "      <td>12345678</td>\n",
       "      <td>8</td>\n",
       "      <td>0</td>\n",
       "      <td>8</td>\n",
       "      <td>0</td>\n",
       "      <td>0</td>\n",
       "      <td>0</td>\n",
       "      <td>0</td>\n",
       "      <td>1</td>\n",
       "    </tr>\n",
       "    <tr>\n",
       "      <th>3</th>\n",
       "      <td>qwerty</td>\n",
       "      <td>6</td>\n",
       "      <td>6</td>\n",
       "      <td>0</td>\n",
       "      <td>0</td>\n",
       "      <td>6</td>\n",
       "      <td>0</td>\n",
       "      <td>1</td>\n",
       "      <td>3</td>\n",
       "    </tr>\n",
       "    <tr>\n",
       "      <th>4</th>\n",
       "      <td>123456789</td>\n",
       "      <td>9</td>\n",
       "      <td>0</td>\n",
       "      <td>9</td>\n",
       "      <td>0</td>\n",
       "      <td>0</td>\n",
       "      <td>0</td>\n",
       "      <td>0</td>\n",
       "      <td>1</td>\n",
       "    </tr>\n",
       "  </tbody>\n",
       "</table>\n",
       "</div>"
      ],
      "text/plain": [
       "    password  length  num_chars  num_digits  num_upper  num_lower  \\\n",
       "0     123456       6          0           6          0          0   \n",
       "1   password       8          8           0          0          8   \n",
       "2   12345678       8          0           8          0          0   \n",
       "3     qwerty       6          6           0          0          6   \n",
       "4  123456789       9          0           9          0          0   \n",
       "\n",
       "   num_special  num_vowels  num_syllables  \n",
       "0            0           0              1  \n",
       "1            0           2              2  \n",
       "2            0           0              1  \n",
       "3            0           1              3  \n",
       "4            0           0              1  "
      ]
     },
     "execution_count": 9,
     "metadata": {},
     "output_type": "execute_result"
    }
   ],
   "source": [
    "df.head()"
   ]
  },
  {
   "cell_type": "code",
   "execution_count": 10,
   "metadata": {},
   "outputs": [
    {
     "data": {
      "text/plain": [
       "(10000, 9)"
      ]
     },
     "execution_count": 10,
     "metadata": {},
     "output_type": "execute_result"
    }
   ],
   "source": [
    "df.shape"
   ]
  },
  {
   "cell_type": "code",
   "execution_count": 11,
   "metadata": {},
   "outputs": [
    {
     "name": "stdout",
     "output_type": "stream",
     "text": [
      "<class 'pandas.core.frame.DataFrame'>\n",
      "RangeIndex: 10000 entries, 0 to 9999\n",
      "Data columns (total 9 columns):\n",
      " #   Column         Non-Null Count  Dtype \n",
      "---  ------         --------------  ----- \n",
      " 0   password       10000 non-null  object\n",
      " 1   length         10000 non-null  int64 \n",
      " 2   num_chars      10000 non-null  int64 \n",
      " 3   num_digits     10000 non-null  int64 \n",
      " 4   num_upper      10000 non-null  int64 \n",
      " 5   num_lower      10000 non-null  int64 \n",
      " 6   num_special    10000 non-null  int64 \n",
      " 7   num_vowels     10000 non-null  int64 \n",
      " 8   num_syllables  10000 non-null  int64 \n",
      "dtypes: int64(8), object(1)\n",
      "memory usage: 703.2+ KB\n"
     ]
    }
   ],
   "source": [
    "df.info()"
   ]
  },
  {
   "cell_type": "code",
   "execution_count": 12,
   "metadata": {},
   "outputs": [
    {
     "data": {
      "text/plain": [
       "password         object\n",
       "length            int64\n",
       "num_chars         int64\n",
       "num_digits        int64\n",
       "num_upper         int64\n",
       "num_lower         int64\n",
       "num_special       int64\n",
       "num_vowels        int64\n",
       "num_syllables     int64\n",
       "dtype: object"
      ]
     },
     "execution_count": 12,
     "metadata": {},
     "output_type": "execute_result"
    }
   ],
   "source": [
    "df.dtypes"
   ]
  },
  {
   "cell_type": "code",
   "execution_count": 13,
   "metadata": {},
   "outputs": [
    {
     "data": {
      "text/html": [
       "<div>\n",
       "<style scoped>\n",
       "    .dataframe tbody tr th:only-of-type {\n",
       "        vertical-align: middle;\n",
       "    }\n",
       "\n",
       "    .dataframe tbody tr th {\n",
       "        vertical-align: top;\n",
       "    }\n",
       "\n",
       "    .dataframe thead th {\n",
       "        text-align: right;\n",
       "    }\n",
       "</style>\n",
       "<table border=\"1\" class=\"dataframe\">\n",
       "  <thead>\n",
       "    <tr style=\"text-align: right;\">\n",
       "      <th></th>\n",
       "      <th>length</th>\n",
       "      <th>num_chars</th>\n",
       "      <th>num_digits</th>\n",
       "      <th>num_upper</th>\n",
       "      <th>num_lower</th>\n",
       "      <th>num_special</th>\n",
       "      <th>num_vowels</th>\n",
       "      <th>num_syllables</th>\n",
       "    </tr>\n",
       "  </thead>\n",
       "  <tbody>\n",
       "    <tr>\n",
       "      <th>count</th>\n",
       "      <td>10000.000000</td>\n",
       "      <td>10000.000000</td>\n",
       "      <td>10000.000000</td>\n",
       "      <td>10000.000000</td>\n",
       "      <td>10000.000000</td>\n",
       "      <td>10000.000000</td>\n",
       "      <td>10000.000000</td>\n",
       "      <td>10000.000000</td>\n",
       "    </tr>\n",
       "    <tr>\n",
       "      <th>mean</th>\n",
       "      <td>6.651300</td>\n",
       "      <td>5.030300</td>\n",
       "      <td>1.617600</td>\n",
       "      <td>0.025300</td>\n",
       "      <td>5.005000</td>\n",
       "      <td>0.003400</td>\n",
       "      <td>1.805900</td>\n",
       "      <td>1.606600</td>\n",
       "    </tr>\n",
       "    <tr>\n",
       "      <th>std</th>\n",
       "      <td>1.370947</td>\n",
       "      <td>2.804098</td>\n",
       "      <td>2.971911</td>\n",
       "      <td>0.322909</td>\n",
       "      <td>2.809727</td>\n",
       "      <td>0.119958</td>\n",
       "      <td>1.242409</td>\n",
       "      <td>0.681383</td>\n",
       "    </tr>\n",
       "    <tr>\n",
       "      <th>min</th>\n",
       "      <td>3.000000</td>\n",
       "      <td>0.000000</td>\n",
       "      <td>0.000000</td>\n",
       "      <td>0.000000</td>\n",
       "      <td>0.000000</td>\n",
       "      <td>0.000000</td>\n",
       "      <td>0.000000</td>\n",
       "      <td>0.000000</td>\n",
       "    </tr>\n",
       "    <tr>\n",
       "      <th>25%</th>\n",
       "      <td>6.000000</td>\n",
       "      <td>4.000000</td>\n",
       "      <td>0.000000</td>\n",
       "      <td>0.000000</td>\n",
       "      <td>4.000000</td>\n",
       "      <td>0.000000</td>\n",
       "      <td>1.000000</td>\n",
       "      <td>1.000000</td>\n",
       "    </tr>\n",
       "    <tr>\n",
       "      <th>50%</th>\n",
       "      <td>7.000000</td>\n",
       "      <td>6.000000</td>\n",
       "      <td>0.000000</td>\n",
       "      <td>0.000000</td>\n",
       "      <td>6.000000</td>\n",
       "      <td>0.000000</td>\n",
       "      <td>2.000000</td>\n",
       "      <td>2.000000</td>\n",
       "    </tr>\n",
       "    <tr>\n",
       "      <th>75%</th>\n",
       "      <td>8.000000</td>\n",
       "      <td>7.000000</td>\n",
       "      <td>1.000000</td>\n",
       "      <td>0.000000</td>\n",
       "      <td>7.000000</td>\n",
       "      <td>0.000000</td>\n",
       "      <td>3.000000</td>\n",
       "      <td>2.000000</td>\n",
       "    </tr>\n",
       "    <tr>\n",
       "      <th>max</th>\n",
       "      <td>16.000000</td>\n",
       "      <td>13.000000</td>\n",
       "      <td>12.000000</td>\n",
       "      <td>8.000000</td>\n",
       "      <td>13.000000</td>\n",
       "      <td>6.000000</td>\n",
       "      <td>10.000000</td>\n",
       "      <td>6.000000</td>\n",
       "    </tr>\n",
       "  </tbody>\n",
       "</table>\n",
       "</div>"
      ],
      "text/plain": [
       "             length     num_chars    num_digits     num_upper     num_lower  \\\n",
       "count  10000.000000  10000.000000  10000.000000  10000.000000  10000.000000   \n",
       "mean       6.651300      5.030300      1.617600      0.025300      5.005000   \n",
       "std        1.370947      2.804098      2.971911      0.322909      2.809727   \n",
       "min        3.000000      0.000000      0.000000      0.000000      0.000000   \n",
       "25%        6.000000      4.000000      0.000000      0.000000      4.000000   \n",
       "50%        7.000000      6.000000      0.000000      0.000000      6.000000   \n",
       "75%        8.000000      7.000000      1.000000      0.000000      7.000000   \n",
       "max       16.000000     13.000000     12.000000      8.000000     13.000000   \n",
       "\n",
       "        num_special    num_vowels  num_syllables  \n",
       "count  10000.000000  10000.000000   10000.000000  \n",
       "mean       0.003400      1.805900       1.606600  \n",
       "std        0.119958      1.242409       0.681383  \n",
       "min        0.000000      0.000000       0.000000  \n",
       "25%        0.000000      1.000000       1.000000  \n",
       "50%        0.000000      2.000000       2.000000  \n",
       "75%        0.000000      3.000000       2.000000  \n",
       "max        6.000000     10.000000       6.000000  "
      ]
     },
     "execution_count": 13,
     "metadata": {},
     "output_type": "execute_result"
    }
   ],
   "source": [
    "df.describe()"
   ]
  },
  {
   "cell_type": "code",
   "execution_count": 14,
   "metadata": {},
   "outputs": [
    {
     "data": {
      "text/html": [
       "<div>\n",
       "<style scoped>\n",
       "    .dataframe tbody tr th:only-of-type {\n",
       "        vertical-align: middle;\n",
       "    }\n",
       "\n",
       "    .dataframe tbody tr th {\n",
       "        vertical-align: top;\n",
       "    }\n",
       "\n",
       "    .dataframe thead th {\n",
       "        text-align: right;\n",
       "    }\n",
       "</style>\n",
       "<table border=\"1\" class=\"dataframe\">\n",
       "  <thead>\n",
       "    <tr style=\"text-align: right;\">\n",
       "      <th></th>\n",
       "      <th>count</th>\n",
       "      <th>mean</th>\n",
       "      <th>std</th>\n",
       "      <th>min</th>\n",
       "      <th>25%</th>\n",
       "      <th>50%</th>\n",
       "      <th>75%</th>\n",
       "      <th>max</th>\n",
       "    </tr>\n",
       "  </thead>\n",
       "  <tbody>\n",
       "    <tr>\n",
       "      <th>length</th>\n",
       "      <td>8.0</td>\n",
       "      <td>0.235957</td>\n",
       "      <td>0.330242</td>\n",
       "      <td>-0.006777</td>\n",
       "      <td>0.048354</td>\n",
       "      <td>0.115629</td>\n",
       "      <td>0.263529</td>\n",
       "      <td>1.0</td>\n",
       "    </tr>\n",
       "    <tr>\n",
       "      <th>num_chars</th>\n",
       "      <td>8.0</td>\n",
       "      <td>0.326783</td>\n",
       "      <td>0.647185</td>\n",
       "      <td>-0.887925</td>\n",
       "      <td>0.019615</td>\n",
       "      <td>0.353554</td>\n",
       "      <td>0.850971</td>\n",
       "      <td>1.0</td>\n",
       "    </tr>\n",
       "    <tr>\n",
       "      <th>num_digits</th>\n",
       "      <td>8.0</td>\n",
       "      <td>-0.203608</td>\n",
       "      <td>0.664713</td>\n",
       "      <td>-0.887925</td>\n",
       "      <td>-0.768171</td>\n",
       "      <td>-0.237756</td>\n",
       "      <td>0.084879</td>\n",
       "      <td>1.0</td>\n",
       "    </tr>\n",
       "    <tr>\n",
       "      <th>num_upper</th>\n",
       "      <td>8.0</td>\n",
       "      <td>0.113844</td>\n",
       "      <td>0.360163</td>\n",
       "      <td>-0.074875</td>\n",
       "      <td>-0.035467</td>\n",
       "      <td>0.005146</td>\n",
       "      <td>0.024811</td>\n",
       "      <td>1.0</td>\n",
       "    </tr>\n",
       "    <tr>\n",
       "      <th>num_lower</th>\n",
       "      <td>8.0</td>\n",
       "      <td>0.313045</td>\n",
       "      <td>0.654798</td>\n",
       "      <td>-0.882850</td>\n",
       "      <td>-0.049913</td>\n",
       "      <td>0.350995</td>\n",
       "      <td>0.854575</td>\n",
       "      <td>1.0</td>\n",
       "    </tr>\n",
       "    <tr>\n",
       "      <th>num_special</th>\n",
       "      <td>8.0</td>\n",
       "      <td>0.102168</td>\n",
       "      <td>0.363289</td>\n",
       "      <td>-0.049706</td>\n",
       "      <td>-0.041676</td>\n",
       "      <td>-0.021641</td>\n",
       "      <td>-0.003500</td>\n",
       "      <td>1.0</td>\n",
       "    </tr>\n",
       "    <tr>\n",
       "      <th>num_vowels</th>\n",
       "      <td>8.0</td>\n",
       "      <td>0.294244</td>\n",
       "      <td>0.585967</td>\n",
       "      <td>-0.729944</td>\n",
       "      <td>-0.041332</td>\n",
       "      <td>0.282204</td>\n",
       "      <td>0.804701</td>\n",
       "      <td>1.0</td>\n",
       "    </tr>\n",
       "    <tr>\n",
       "      <th>num_syllables</th>\n",
       "      <td>8.0</td>\n",
       "      <td>0.304325</td>\n",
       "      <td>0.457705</td>\n",
       "      <td>-0.446826</td>\n",
       "      <td>-0.003041</td>\n",
       "      <td>0.370388</td>\n",
       "      <td>0.588265</td>\n",
       "      <td>1.0</td>\n",
       "    </tr>\n",
       "  </tbody>\n",
       "</table>\n",
       "</div>"
      ],
      "text/plain": [
       "               count      mean       std       min       25%       50%  \\\n",
       "length           8.0  0.235957  0.330242 -0.006777  0.048354  0.115629   \n",
       "num_chars        8.0  0.326783  0.647185 -0.887925  0.019615  0.353554   \n",
       "num_digits       8.0 -0.203608  0.664713 -0.887925 -0.768171 -0.237756   \n",
       "num_upper        8.0  0.113844  0.360163 -0.074875 -0.035467  0.005146   \n",
       "num_lower        8.0  0.313045  0.654798 -0.882850 -0.049913  0.350995   \n",
       "num_special      8.0  0.102168  0.363289 -0.049706 -0.041676 -0.021641   \n",
       "num_vowels       8.0  0.294244  0.585967 -0.729944 -0.041332  0.282204   \n",
       "num_syllables    8.0  0.304325  0.457705 -0.446826 -0.003041  0.370388   \n",
       "\n",
       "                    75%  max  \n",
       "length         0.263529  1.0  \n",
       "num_chars      0.850971  1.0  \n",
       "num_digits     0.084879  1.0  \n",
       "num_upper      0.024811  1.0  \n",
       "num_lower      0.854575  1.0  \n",
       "num_special   -0.003500  1.0  \n",
       "num_vowels     0.804701  1.0  \n",
       "num_syllables  0.588265  1.0  "
      ]
     },
     "execution_count": 14,
     "metadata": {},
     "output_type": "execute_result"
    }
   ],
   "source": [
    "df.corr().describe().T"
   ]
  },
  {
   "cell_type": "code",
   "execution_count": 15,
   "metadata": {},
   "outputs": [
    {
     "data": {
      "text/plain": [
       "password         0\n",
       "length           0\n",
       "num_chars        0\n",
       "num_digits       0\n",
       "num_upper        0\n",
       "num_lower        0\n",
       "num_special      0\n",
       "num_vowels       0\n",
       "num_syllables    0\n",
       "dtype: int64"
      ]
     },
     "execution_count": 15,
     "metadata": {},
     "output_type": "execute_result"
    }
   ],
   "source": [
    "df.isna().sum()"
   ]
  },
  {
   "cell_type": "code",
   "execution_count": 16,
   "metadata": {},
   "outputs": [
    {
     "name": "stderr",
     "output_type": "stream",
     "text": [
      "C:\\Users\\Md Asif Ikbal\\anaconda3\\lib\\site-packages\\ipykernel_launcher.py:1: FutureWarning: Dropping of nuisance columns in DataFrame reductions (with 'numeric_only=None') is deprecated; in a future version this will raise TypeError.  Select only valid columns before calling the reduction.\n",
      "  \"\"\"Entry point for launching an IPython kernel.\n"
     ]
    },
    {
     "data": {
      "text/plain": [
       "length           6.6513\n",
       "num_chars        5.0303\n",
       "num_digits       1.6176\n",
       "num_upper        0.0253\n",
       "num_lower        5.0050\n",
       "num_special      0.0034\n",
       "num_vowels       1.8059\n",
       "num_syllables    1.6066\n",
       "dtype: float64"
      ]
     },
     "execution_count": 16,
     "metadata": {},
     "output_type": "execute_result"
    }
   ],
   "source": [
    "df.mean()"
   ]
  },
  {
   "cell_type": "code",
   "execution_count": 17,
   "metadata": {},
   "outputs": [
    {
     "data": {
      "text/plain": [
       "password         *****\n",
       "length               3\n",
       "num_chars            0\n",
       "num_digits           0\n",
       "num_upper            0\n",
       "num_lower            0\n",
       "num_special          0\n",
       "num_vowels           0\n",
       "num_syllables        0\n",
       "dtype: object"
      ]
     },
     "execution_count": 17,
     "metadata": {},
     "output_type": "execute_result"
    }
   ],
   "source": [
    "df.min()"
   ]
  },
  {
   "cell_type": "code",
   "execution_count": 18,
   "metadata": {},
   "outputs": [
    {
     "data": {
      "text/plain": [
       "password         zzzzzzzz\n",
       "length                 16\n",
       "num_chars              13\n",
       "num_digits             12\n",
       "num_upper               8\n",
       "num_lower              13\n",
       "num_special             6\n",
       "num_vowels             10\n",
       "num_syllables           6\n",
       "dtype: object"
      ]
     },
     "execution_count": 18,
     "metadata": {},
     "output_type": "execute_result"
    }
   ],
   "source": [
    "df.max()"
   ]
  },
  {
   "cell_type": "code",
   "execution_count": 20,
   "metadata": {},
   "outputs": [
    {
     "name": "stderr",
     "output_type": "stream",
     "text": [
      "C:\\Users\\Md Asif Ikbal\\anaconda3\\lib\\site-packages\\ipykernel_launcher.py:1: FutureWarning: Dropping of nuisance columns in DataFrame reductions (with 'numeric_only=None') is deprecated; in a future version this will raise TypeError.  Select only valid columns before calling the reduction.\n",
      "  \"\"\"Entry point for launching an IPython kernel.\n"
     ]
    },
    {
     "data": {
      "text/plain": [
       "length            0.037751\n",
       "num_chars        -0.831452\n",
       "num_digits        1.506275\n",
       "num_upper        17.788917\n",
       "num_lower        -0.819656\n",
       "num_special      42.217568\n",
       "num_vowels       -0.025168\n",
       "num_syllables     0.954203\n",
       "dtype: float64"
      ]
     },
     "execution_count": 20,
     "metadata": {},
     "output_type": "execute_result"
    }
   ],
   "source": [
    "df.skew()"
   ]
  },
  {
   "cell_type": "code",
   "execution_count": 21,
   "metadata": {},
   "outputs": [
    {
     "name": "stdout",
     "output_type": "stream",
     "text": [
      "unique values in column \"password\" is\n",
      " abcdef           2\n",
      "easy             2\n",
      "toilet           1\n",
      "survivor         1\n",
      "sundevil         1\n",
      "                ..\n",
      "whisper          1\n",
      "vfvekz           1\n",
      "tyler1           1\n",
      "Sojdlg123aljg    1\n",
      "brady            1\n",
      "Name: password, Length: 9998, dtype: int64\n",
      "-------------------------------------------------\n",
      "unique values in column \"length\" is\n",
      " 6     3176\n",
      "8     2971\n",
      "7     1771\n",
      "5      903\n",
      "4      810\n",
      "9      219\n",
      "10      94\n",
      "11      28\n",
      "12      21\n",
      "3        3\n",
      "13       2\n",
      "15       1\n",
      "16       1\n",
      "Name: length, dtype: int64\n",
      "-------------------------------------------------\n",
      "unique values in column \"num_chars\" is\n",
      " 6     2761\n",
      "0     1988\n",
      "7     1691\n",
      "8     1373\n",
      "5     1123\n",
      "4      679\n",
      "9      160\n",
      "3       72\n",
      "1       57\n",
      "10      52\n",
      "11      17\n",
      "2       16\n",
      "12      10\n",
      "13       1\n",
      "Name: num_chars, dtype: int64\n",
      "-------------------------------------------------\n",
      "unique values in column \"num_digits\" is\n",
      " 0     7185\n",
      "8     1354\n",
      "1      461\n",
      "6      314\n",
      "4      281\n",
      "3      138\n",
      "2       91\n",
      "5       60\n",
      "7       48\n",
      "9       40\n",
      "10      26\n",
      "11       1\n",
      "12       1\n",
      "Name: num_digits, dtype: int64\n",
      "-------------------------------------------------\n",
      "unique values in column \"num_upper\" is\n",
      " 0    9881\n",
      "1      86\n",
      "6      13\n",
      "2       6\n",
      "4       4\n",
      "8       3\n",
      "7       3\n",
      "3       2\n",
      "5       2\n",
      "Name: num_upper, dtype: int64\n",
      "-------------------------------------------------\n",
      "unique values in column \"num_lower\" is\n",
      " 6     2742\n",
      "0     2012\n",
      "7     1681\n",
      "8     1353\n",
      "5     1142\n",
      "4      680\n",
      "9      162\n",
      "3       75\n",
      "1       57\n",
      "10      50\n",
      "2       20\n",
      "11      16\n",
      "12       9\n",
      "13       1\n",
      "Name: num_lower, dtype: int64\n",
      "-------------------------------------------------\n",
      "unique values in column \"num_special\" is\n",
      " 0    9988\n",
      "1       5\n",
      "2       2\n",
      "5       2\n",
      "6       2\n",
      "3       1\n",
      "Name: num_special, dtype: int64\n",
      "-------------------------------------------------\n",
      "unique values in column \"num_vowels\" is\n",
      " 2     3530\n",
      "3     2433\n",
      "0     2316\n",
      "1     1088\n",
      "4      578\n",
      "5       43\n",
      "6        5\n",
      "8        3\n",
      "7        3\n",
      "10       1\n",
      "Name: num_vowels, dtype: int64\n",
      "-------------------------------------------------\n",
      "unique values in column \"num_syllables\" is\n",
      " 1    4926\n",
      "2    4174\n",
      "3     808\n",
      "4      76\n",
      "5       8\n",
      "6       4\n",
      "0       4\n",
      "Name: num_syllables, dtype: int64\n",
      "-------------------------------------------------\n"
     ]
    }
   ],
   "source": [
    "for i  in df.columns:\n",
    "    print(f'unique values in column \"{i}\" is\\n {df[i].value_counts()}')\n",
    "    print('-------------------------------------------------')"
   ]
  },
  {
   "cell_type": "code",
   "execution_count": 22,
   "metadata": {},
   "outputs": [],
   "source": [
    "object_col=[]\n",
    "num_col=[]\n",
    "for i in df.columns:\n",
    "    if df[i].dtype=='object':\n",
    "        object_col.append(i)\n",
    "    else:\n",
    "        num_col.append(i)"
   ]
  },
  {
   "cell_type": "code",
   "execution_count": 23,
   "metadata": {},
   "outputs": [
    {
     "data": {
      "text/plain": [
       "['password']"
      ]
     },
     "execution_count": 23,
     "metadata": {},
     "output_type": "execute_result"
    }
   ],
   "source": [
    "object_col"
   ]
  },
  {
   "cell_type": "code",
   "execution_count": 24,
   "metadata": {},
   "outputs": [
    {
     "data": {
      "text/plain": [
       "['length',\n",
       " 'num_chars',\n",
       " 'num_digits',\n",
       " 'num_upper',\n",
       " 'num_lower',\n",
       " 'num_special',\n",
       " 'num_vowels',\n",
       " 'num_syllables']"
      ]
     },
     "execution_count": 24,
     "metadata": {},
     "output_type": "execute_result"
    }
   ],
   "source": [
    "num_col"
   ]
  },
  {
   "cell_type": "code",
   "execution_count": 25,
   "metadata": {},
   "outputs": [
    {
     "data": {
      "text/plain": [
       "Index(['password', 'length', 'num_chars', 'num_digits', 'num_upper',\n",
       "       'num_lower', 'num_special', 'num_vowels', 'num_syllables'],\n",
       "      dtype='object')"
      ]
     },
     "execution_count": 25,
     "metadata": {},
     "output_type": "execute_result"
    }
   ],
   "source": [
    "df.columns"
   ]
  },
  {
   "cell_type": "code",
   "execution_count": 27,
   "metadata": {},
   "outputs": [],
   "source": [
    "import pandas as pd\n",
    "from pandas.plotting import scatter_matrix\n",
    "import matplotlib.pyplot as plt\n",
    "from sklearn import model_selection\n",
    "from sklearn.metrics import classification_report\n",
    "from sklearn.metrics import confusion_matrix\n",
    "from sklearn.metrics import accuracy_score\n",
    "from sklearn.linear_model import LogisticRegression\n",
    "from sklearn.tree import DecisionTreeClassifier\n",
    "from sklearn.neighbors import KNeighborsClassifier\n",
    "from sklearn.discriminant_analysis import LinearDiscriminantAnalysis\n",
    "from sklearn.naive_bayes import GaussianNB\n",
    "from sklearn.svm import SVC\n",
    "from sklearn.model_selection import train_test_split\n",
    "from sklearn.linear_model import LinearRegression\n",
    "from sklearn.linear_model import LogisticRegression\n",
    "import numpy as np\n",
    "import pandas as pd\n",
    "from sklearn.preprocessing import StandardScaler\n",
    "from sklearn.metrics import f1_score\n",
    "from sklearn.metrics import accuracy_score\n",
    "%matplotlib inline\n",
    "import seaborn as sns\n",
    "import pandas as pd\n",
    "from sklearn.naive_bayes import GaussianNB\n",
    "from sklearn.model_selection import train_test_split\n",
    "from sklearn.preprocessing import LabelEncoder"
   ]
  },
  {
   "cell_type": "code",
   "execution_count": 28,
   "metadata": {},
   "outputs": [
    {
     "data": {
      "image/png": "[encoded data removed]",
      "text/plain": [
       "<Figure size 1080x648 with 2 Axes>"
      ]
     },
     "metadata": {
      "needs_background": "light"
     },
     "output_type": "display_data"
    }
   ],
   "source": [
    "plt.figure(figsize=(15,9))\n",
    "cmap = sns.diverging_palette(230, 20, as_cmap=True)\n",
    "sns.heatmap(df.corr(),annot=True,cmap='Dark2_r',linewidths=2)\n",
    "plt.show()"
   ]
  },
  {
   "cell_type": "code",
   "execution_count": 31,
   "metadata": {},
   "outputs": [
    {
     "data": {
      "text/plain": [
       "<AxesSubplot:>"
      ]
     },
     "execution_count": 31,
     "metadata": {},
     "output_type": "execute_result"
    },
    {
     "data": {
      "image/png": "[encoded data removed]",
      "text/plain": [
       "<Figure size 1080x648 with 2 Axes>"
      ]
     },
     "metadata": {
      "needs_background": "light"
     },
     "output_type": "display_data"
    }
   ],
   "source": [
    "plt.figure(figsize=(15,9))\n",
    "sns.heatmap(df.corr(),annot=True)"
   ]
  },
  {
   "cell_type": "code",
   "execution_count": 33,
   "metadata": {},
   "outputs": [],
   "source": [
    "import sweetviz as sv"
   ]
  },
  {
   "cell_type": "code",
   "execution_count": 34,
   "metadata": {},
   "outputs": [
    {
     "data": {
      "application/vnd.jupyter.widget-view+json": {
       "model_id": "2dcfa7bc8b2b4b4b8b0de1dfc787234d",
       "version_major": 2,
       "version_minor": 0
      },
      "text/plain": [
       "                                             |                                             | [  0%]   00:00 ->…"
      ]
     },
     "metadata": {},
     "output_type": "display_data"
    },
    {
     "name": "stdout",
     "output_type": "stream",
     "text": [
      "Report Analyze.html was generated! NOTEBOOK/COLAB USERS: the web browser MAY not pop up, regardless, the report IS saved in your notebook/colab files.\n"
     ]
    }
   ],
   "source": [
    "data=sv.analyze(df)\n",
    "data.show_html('Analyze.html')"
   ]
  },
  {
   "cell_type": "code",
   "execution_count": 35,
   "metadata": {},
   "outputs": [],
   "source": [
    "from IPython.display import IFrame"
   ]
  },
  {
   "cell_type": "code",
   "execution_count": 36,
   "metadata": {},
   "outputs": [
    {
     "data": {
      "text/html": [
       "\n",
       "        <iframe\n",
       "            width=\"1000\"\n",
       "            height=\"600\"\n",
       "            src=\"Analyze.html\"\n",
       "            frameborder=\"0\"\n",
       "            allowfullscreen\n",
       "        ></iframe>\n",
       "        "
      ],
      "text/plain": [
       "<IPython.lib.display.IFrame at 0x1f6a0815c48>"
      ]
     },
     "execution_count": 36,
     "metadata": {},
     "output_type": "execute_result"
    }
   ],
   "source": [
    "IFrame(src='Analyze.html',width=1000,height=600)"
   ]
  },
  {
   "cell_type": "code",
   "execution_count": null,
   "metadata": {},
   "outputs": [],
   "source": []
  }
 ],
 "metadata": {
  "kernelspec": {
   "display_name": "Python 3",
   "language": "python",
   "name": "python3"
  },
  "language_info": {
   "codemirror_mode": {
    "name": "ipython",
    "version": 3
   },
   "file_extension": ".py",
   "mimetype": "text/x-python",
   "name": "python",
   "nbconvert_exporter": "python",
   "pygments_lexer": "ipython3",
   "version": "3.7.6"
  }
 },
 "nbformat": 4,
 "nbformat_minor": 4
}
